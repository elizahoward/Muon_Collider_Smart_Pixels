{
 "cells": [
  {
   "cell_type": "markdown",
   "id": "e8abb5a2",
   "metadata": {},
   "source": [
    "Author: Daniel Abadjiev  \n",
    "Date: October 17, 2025  \n",
    "Description: A runner notebook for ASICModel.py to try it out. \n",
    "Eventually this should be made into a script, or added to a generic script."
   ]
  },
  {
   "cell_type": "code",
   "execution_count": 1,
   "id": "fc1d1b4c",
   "metadata": {},
   "outputs": [
    {
     "name": "stderr",
     "output_type": "stream",
     "text": [
      "2025-10-17 16:25:33.743484: I tensorflow/core/util/port.cc:110] oneDNN custom operations are on. You may see slightly different numerical results due to floating-point round-off errors from different computation orders. To turn them off, set the environment variable `TF_ENABLE_ONEDNN_OPTS=0`.\n",
      "2025-10-17 16:25:33.781767: I tensorflow/core/platform/cpu_feature_guard.cc:182] This TensorFlow binary is optimized to use available CPU instructions in performance-critical operations.\n",
      "To enable the following instructions: SSE4.1 SSE4.2 AVX AVX2 AVX512F AVX512_VNNI FMA, in other operations, rebuild TensorFlow with the appropriate compiler flags.\n"
     ]
    },
    {
     "name": "stdout",
     "output_type": "stream",
     "text": [
      "weird import error\n",
      "[PhysicalDevice(name='/physical_device:CPU:0', device_type='CPU'), PhysicalDevice(name='/physical_device:GPU:0', device_type='GPU')]\n",
      "True\n",
      "True\n",
      "WARNING:tensorflow:From /home/dabadjiev/smartpixels_ml_dsabadjiev/Muon_Collider_Smart_Pixels/daniel/ASICModel.py:38: is_gpu_available (from tensorflow.python.framework.test_util) is deprecated and will be removed in a future version.\n",
      "Instructions for updating:\n",
      "Use `tf.config.list_physical_devices('GPU')` instead.\n",
      "True\n"
     ]
    },
    {
     "name": "stderr",
     "output_type": "stream",
     "text": [
      "2025-10-17 16:25:36.145602: I tensorflow/core/common_runtime/gpu/gpu_device.cc:1639] Created device /device:GPU:0 with 14165 MB memory:  -> device: 0, name: NVIDIA RTX A4000, pci bus id: 0000:4b:00.0, compute capability: 8.6\n"
     ]
    }
   ],
   "source": [
    "import ASICModel\n"
   ]
  },
  {
   "cell_type": "code",
   "execution_count": 3,
   "id": "b0928adc",
   "metadata": {},
   "outputs": [
    {
     "ename": "TypeError",
     "evalue": "Can't instantiate abstract class ModelASIC with abstract methods buildModel, makeQuantizedModel, makeUnquatizedModelHyperParameterTuning",
     "output_type": "error",
     "traceback": [
      "\u001b[0;31m---------------------------------------------------------------------------\u001b[0m",
      "\u001b[0;31mTypeError\u001b[0m                                 Traceback (most recent call last)",
      "Cell \u001b[0;32mIn[3], line 1\u001b[0m\n\u001b[0;32m----> 1\u001b[0m Model1 \u001b[38;5;241m=\u001b[39m \u001b[43mASICModel\u001b[49m\u001b[38;5;241;43m.\u001b[39;49m\u001b[43mModelASIC\u001b[49m\u001b[43m(\u001b[49m\u001b[43m)\u001b[49m\n",
      "\u001b[0;31mTypeError\u001b[0m: Can't instantiate abstract class ModelASIC with abstract methods buildModel, makeQuantizedModel, makeUnquatizedModelHyperParameterTuning"
     ]
    }
   ],
   "source": [
    "Model1 = ASICModel.ModelASIC()"
   ]
  }
 ],
 "metadata": {
  "kernelspec": {
   "display_name": "mlgpu_qkeras_tar",
   "language": "python",
   "name": "python3"
  },
  "language_info": {
   "codemirror_mode": {
    "name": "ipython",
    "version": 3
   },
   "file_extension": ".py",
   "mimetype": "text/x-python",
   "name": "python",
   "nbconvert_exporter": "python",
   "pygments_lexer": "ipython3",
   "version": "3.8.18"
  }
 },
 "nbformat": 4,
 "nbformat_minor": 5
}
