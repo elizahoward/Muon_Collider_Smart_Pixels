{
 "cells": [
  {
   "cell_type": "markdown",
   "id": "e8abb5a2",
   "metadata": {},
   "source": [
    "Author: Daniel Abadjiev  \n",
    "Date: October 17, 2025  \n",
    "Description: A runner notebook for ASICModel.py to try it out. \n",
    "Eventually this should be made into a script, or added to a generic script."
   ]
  },
  {
   "cell_type": "code",
   "execution_count": 1,
   "id": "fc1d1b4c",
   "metadata": {},
   "outputs": [
    {
     "name": "stderr",
     "output_type": "stream",
     "text": [
      "2025-10-17 17:16:35.079292: I tensorflow/core/util/port.cc:110] oneDNN custom operations are on. You may see slightly different numerical results due to floating-point round-off errors from different computation orders. To turn them off, set the environment variable `TF_ENABLE_ONEDNN_OPTS=0`.\n",
      "2025-10-17 17:16:35.081028: I tensorflow/tsl/cuda/cudart_stub.cc:28] Could not find cuda drivers on your machine, GPU will not be used.\n",
      "2025-10-17 17:16:35.118935: I tensorflow/tsl/cuda/cudart_stub.cc:28] Could not find cuda drivers on your machine, GPU will not be used.\n",
      "2025-10-17 17:16:35.119656: I tensorflow/core/platform/cpu_feature_guard.cc:182] This TensorFlow binary is optimized to use available CPU instructions in performance-critical operations.\n",
      "To enable the following instructions: AVX2 AVX512F AVX512_VNNI FMA, in other operations, rebuild TensorFlow with the appropriate compiler flags.\n",
      "2025-10-17 17:16:35.907424: W tensorflow/compiler/tf2tensorrt/utils/py_utils.cc:38] TF-TRT Warning: Could not find TensorRT\n"
     ]
    },
    {
     "name": "stdout",
     "output_type": "stream",
     "text": [
      "WARN: Unable to import optimizer(s) from expr_templates.py: No module named 'sympy'\n",
      "[PhysicalDevice(name='/physical_device:CPU:0', device_type='CPU')]\n",
      "True\n",
      "True\n",
      "WARNING:tensorflow:From /home/dabadjiev/smartpixels_ml_dsabadjiev/Muon_Collider_Smart_Pixels/daniel/ASICModel.py:39: is_gpu_available (from tensorflow.python.framework.test_util) is deprecated and will be removed in a future version.\n",
      "Instructions for updating:\n",
      "Use `tf.config.list_physical_devices('GPU')` instead.\n",
      "False\n"
     ]
    },
    {
     "name": "stderr",
     "output_type": "stream",
     "text": [
      "2025-10-17 17:16:38.156769: W tensorflow/core/common_runtime/gpu/gpu_device.cc:1960] Cannot dlopen some GPU libraries. Please make sure the missing libraries mentioned above are installed properly if you would like to use GPU. Follow the guide at https://www.tensorflow.org/install/gpu for how to download and setup the required libraries for your platform.\n",
      "Skipping registering GPU devices...\n",
      "2025-10-17 17:16:38.165533: W tensorflow/core/common_runtime/gpu/gpu_device.cc:1960] Cannot dlopen some GPU libraries. Please make sure the missing libraries mentioned above are installed properly if you would like to use GPU. Follow the guide at https://www.tensorflow.org/install/gpu for how to download and setup the required libraries for your platform.\n",
      "Skipping registering GPU devices...\n"
     ]
    }
   ],
   "source": [
    "\n",
    "import os\n",
    "os.environ['PROTOCOL_BUFFERS_PYTHON_IMPLEMENTATION'] = 'python'\n",
    "\n",
    "import ASICModel"
   ]
  },
  {
   "cell_type": "code",
   "execution_count": 2,
   "id": "b0928adc",
   "metadata": {},
   "outputs": [
    {
     "name": "stderr",
     "output_type": "stream",
     "text": [
      "WARNING:root:Quantization is False in data generator. This may affect model performance.\n",
      "WARNING:root:Quantization is False in data generator. This may affect model performance.\n"
     ]
    },
    {
     "name": "stdout",
     "output_type": "stream",
     "text": [
      "Model: \"model_1\"\n",
      "__________________________________________________________________________________________________\n",
      " Layer (type)                Output Shape                 Param #   Connected to                  \n",
      "==================================================================================================\n",
      " y_local (InputLayer)        [(None, 1)]                  0         []                            \n",
      "                                                                                                  \n",
      " y_profile (InputLayer)      [(None, 13)]                 0         []                            \n",
      "                                                                                                  \n",
      " concatenate_1 (Concatenate  (None, 14)                   0         ['y_local[0][0]',             \n",
      " )                                                                   'y_profile[0][0]']           \n",
      "                                                                                                  \n",
      " dense1 (QDenseBatchnorm)    (None, 58)                   1103      ['concatenate_1[0][0]']       \n",
      "                                                                                                  \n",
      " relu1 (QActivation)         (None, 58)                   0         ['dense1[0][0]']              \n",
      "                                                                                                  \n",
      " output_dense (QDense)       (None, 1)                    59        ['relu1[0][0]']               \n",
      "                                                                                                  \n",
      "==================================================================================================\n",
      "Total params: 1162 (4.54 KB)\n",
      "Trainable params: 1045 (4.08 KB)\n",
      "Non-trainable params: 117 (472.00 Byte)\n",
      "__________________________________________________________________________________________________\n"
     ]
    }
   ],
   "source": [
    "Model1 = ASICModel.ModelASIC()\n",
    "Model1.makeUnquantizedModel()\n",
    "Model1.loadTfRecords()\n",
    "Model1.makeQuantizedModel()\n",
    "# Model1.trainModel(epochNumber=10)"
   ]
  },
  {
   "cell_type": "code",
   "execution_count": null,
   "id": "6856a92f",
   "metadata": {},
   "outputs": [
    {
     "name": "stdout",
     "output_type": "stream",
     "text": [
      "Epoch 1/10\n"
     ]
    },
    {
     "name": "stderr",
     "output_type": "stream",
     "text": [
      "/home/dabadjiev/miniconda3/envs/miscGithubEnviro/lib/python3.10/site-packages/keras/src/engine/functional.py:639: UserWarning: Input dict contained keys ['x_size', 'z_global', 'x_profile', 'cluster'] which did not match any model input. They will be ignored by the model.\n",
      "  inputs = self._flatten_to_reference_inputs(inputs)\n"
     ]
    },
    {
     "name": "stdout",
     "output_type": "stream",
     "text": [
      "157/157 [==============================] - 16s 95ms/step - loss: 3.6703 - binary_accuracy: 0.5992 - val_loss: 0.4765 - val_binary_accuracy: 0.7386\n",
      "Epoch 2/10\n",
      "157/157 [==============================] - 14s 89ms/step - loss: 0.4788 - binary_accuracy: 0.7484 - val_loss: 0.4456 - val_binary_accuracy: 0.7587\n",
      "Epoch 3/10\n",
      "157/157 [==============================] - 14s 89ms/step - loss: 0.4608 - binary_accuracy: 0.7457 - val_loss: 0.4529 - val_binary_accuracy: 0.7382\n",
      "Epoch 4/10\n",
      "157/157 [==============================] - 14s 87ms/step - loss: 0.4646 - binary_accuracy: 0.7511 - val_loss: 0.4499 - val_binary_accuracy: 0.7629\n",
      "Epoch 5/10\n",
      "157/157 [==============================] - 14s 87ms/step - loss: 0.4553 - binary_accuracy: 0.7488 - val_loss: 0.4434 - val_binary_accuracy: 0.7458\n",
      "Epoch 6/10\n",
      "157/157 [==============================] - 14s 86ms/step - loss: 0.4518 - binary_accuracy: 0.7474 - val_loss: 0.4560 - val_binary_accuracy: 0.7441\n",
      "Epoch 7/10\n",
      "157/157 [==============================] - 14s 87ms/step - loss: 0.4641 - binary_accuracy: 0.7457 - val_loss: 0.4541 - val_binary_accuracy: 0.7245\n",
      "Epoch 8/10\n",
      "157/157 [==============================] - 14s 86ms/step - loss: 0.4519 - binary_accuracy: 0.7403 - val_loss: 0.4579 - val_binary_accuracy: 0.7267\n",
      "Epoch 9/10\n",
      "157/157 [==============================] - 14s 87ms/step - loss: 0.4567 - binary_accuracy: 0.7321 - val_loss: 0.5019 - val_binary_accuracy: 0.6752\n",
      "Epoch 10/10\n",
      "157/157 [==============================] - 14s 86ms/step - loss: 0.4988 - binary_accuracy: 0.7032 - val_loss: 0.4591 - val_binary_accuracy: 0.7332\n"
     ]
    }
   ],
   "source": [
    "Model1.trainQuantizedModel(numEpochs=10)"
   ]
  }
 ],
 "metadata": {
  "kernelspec": {
   "display_name": "miscGithubEnviro",
   "language": "python",
   "name": "python3"
  },
  "language_info": {
   "codemirror_mode": {
    "name": "ipython",
    "version": 3
   },
   "file_extension": ".py",
   "mimetype": "text/x-python",
   "name": "python",
   "nbconvert_exporter": "python",
   "pygments_lexer": "ipython3",
   "version": "3.10.18"
  }
 },
 "nbformat": 4,
 "nbformat_minor": 5
}
