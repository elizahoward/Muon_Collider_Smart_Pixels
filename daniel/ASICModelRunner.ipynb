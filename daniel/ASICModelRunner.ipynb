{
 "cells": [
  {
   "cell_type": "markdown",
   "id": "e8abb5a2",
   "metadata": {},
   "source": [
    "Author: Daniel Abadjiev  \n",
    "Date: October 17, 2025  \n",
    "Description: A runner notebook for ASICModel.py to try it out. \n",
    "Eventually this should be made into a script, or added to a generic script."
   ]
  },
  {
   "cell_type": "code",
   "execution_count": 1,
   "id": "fc1d1b4c",
   "metadata": {},
   "outputs": [
    {
     "name": "stderr",
     "output_type": "stream",
     "text": [
      "2025-10-20 12:36:02.319121: I tensorflow/core/util/port.cc:110] oneDNN custom operations are on. You may see slightly different numerical results due to floating-point round-off errors from different computation orders. To turn them off, set the environment variable `TF_ENABLE_ONEDNN_OPTS=0`.\n",
      "2025-10-20 12:36:02.320952: I tensorflow/tsl/cuda/cudart_stub.cc:28] Could not find cuda drivers on your machine, GPU will not be used.\n",
      "2025-10-20 12:36:02.358723: I tensorflow/tsl/cuda/cudart_stub.cc:28] Could not find cuda drivers on your machine, GPU will not be used.\n",
      "2025-10-20 12:36:02.359420: I tensorflow/core/platform/cpu_feature_guard.cc:182] This TensorFlow binary is optimized to use available CPU instructions in performance-critical operations.\n",
      "To enable the following instructions: AVX2 AVX512F AVX512_VNNI FMA, in other operations, rebuild TensorFlow with the appropriate compiler flags.\n"
     ]
    },
    {
     "name": "stderr",
     "output_type": "stream",
     "text": [
      "2025-10-20 12:36:03.184272: W tensorflow/compiler/tf2tensorrt/utils/py_utils.cc:38] TF-TRT Warning: Could not find TensorRT\n"
     ]
    },
    {
     "name": "stdout",
     "output_type": "stream",
     "text": [
      "WARN: Unable to import optimizer(s) from expr_templates.py: No module named 'sympy'\n",
      "[PhysicalDevice(name='/physical_device:CPU:0', device_type='CPU')]\n",
      "True\n",
      "True\n",
      "WARNING:tensorflow:From /home/dabadjiev/smartpixels_ml_dsabadjiev/Muon_Collider_Smart_Pixels/daniel/ASICModel.py:39: is_gpu_available (from tensorflow.python.framework.test_util) is deprecated and will be removed in a future version.\n",
      "Instructions for updating:\n",
      "Use `tf.config.list_physical_devices('GPU')` instead.\n",
      "False\n"
     ]
    },
    {
     "name": "stderr",
     "output_type": "stream",
     "text": [
      "2025-10-20 12:36:05.455721: W tensorflow/core/common_runtime/gpu/gpu_device.cc:1960] Cannot dlopen some GPU libraries. Please make sure the missing libraries mentioned above are installed properly if you would like to use GPU. Follow the guide at https://www.tensorflow.org/install/gpu for how to download and setup the required libraries for your platform.\n",
      "Skipping registering GPU devices...\n",
      "2025-10-20 12:36:05.464586: W tensorflow/core/common_runtime/gpu/gpu_device.cc:1960] Cannot dlopen some GPU libraries. Please make sure the missing libraries mentioned above are installed properly if you would like to use GPU. Follow the guide at https://www.tensorflow.org/install/gpu for how to download and setup the required libraries for your platform.\n",
      "Skipping registering GPU devices...\n"
     ]
    }
   ],
   "source": [
    "\n",
    "import os\n",
    "os.environ['PROTOCOL_BUFFERS_PYTHON_IMPLEMENTATION'] = 'python'\n",
    "\n",
    "import ASICModel"
   ]
  },
  {
   "cell_type": "code",
   "execution_count": 2,
   "id": "b0928adc",
   "metadata": {},
   "outputs": [
    {
     "name": "stderr",
     "output_type": "stream",
     "text": [
      "WARNING:root:Quantization is False in data generator. This may affect model performance.\n",
      "WARNING:root:Quantization is False in data generator. This may affect model performance.\n"
     ]
    },
    {
     "name": "stdout",
     "output_type": "stream",
     "text": [
      "Model: \"model_1\"\n",
      "__________________________________________________________________________________________________\n",
      " Layer (type)                Output Shape                 Param #   Connected to                  \n",
      "==================================================================================================\n",
      " y_local (InputLayer)        [(None, 1)]                  0         []                            \n",
      "                                                                                                  \n",
      " y_profile (InputLayer)      [(None, 13)]                 0         []                            \n",
      "                                                                                                  \n",
      " concatenate_1 (Concatenate  (None, 14)                   0         ['y_local[0][0]',             \n",
      " )                                                                   'y_profile[0][0]']           \n",
      "                                                                                                  \n",
      " dense1 (QDenseBatchnorm)    (None, 58)                   1103      ['concatenate_1[0][0]']       \n",
      "                                                                                                  \n",
      " relu1 (QActivation)         (None, 58)                   0         ['dense1[0][0]']              \n",
      "                                                                                                  \n",
      " output_dense (QDense)       (None, 1)                    59        ['relu1[0][0]']               \n",
      "                                                                                                  \n",
      "==================================================================================================\n",
      "Total params: 1162 (4.54 KB)\n",
      "Trainable params: 1045 (4.08 KB)\n",
      "Non-trainable params: 117 (472.00 Byte)\n",
      "__________________________________________________________________________________________________\n"
     ]
    }
   ],
   "source": [
    "Model1 = ASICModel.ModelASIC()\n",
    "Model1.makeUnquantizedModel()\n",
    "Model1.loadTfRecords()\n",
    "Model1.makeQuantizedModel()\n",
    "# Model1.trainModel(epochNumber=10)"
   ]
  },
  {
   "cell_type": "code",
   "execution_count": null,
   "id": "6856a92f",
   "metadata": {},
   "outputs": [
    {
     "name": "stdout",
     "output_type": "stream",
     "text": [
      "Epoch 1/50\n",
      "  7/157 [>.............................] - ETA: 11s - loss: 6.1454 - binary_accuracy: 0.5186"
     ]
    },
    {
     "name": "stdout",
     "output_type": "stream",
     "text": [
      "157/157 [==============================] - 15s 94ms/step - loss: 3.5000 - binary_accuracy: 0.6065 - val_loss: 0.5060 - val_binary_accuracy: 0.7392\n",
      "Epoch 2/50\n",
      "157/157 [==============================] - 14s 92ms/step - loss: 0.4953 - binary_accuracy: 0.7365 - val_loss: 0.5262 - val_binary_accuracy: 0.7464\n",
      "Epoch 3/50\n",
      "157/157 [==============================] - 15s 93ms/step - loss: 0.4816 - binary_accuracy: 0.7423 - val_loss: 0.4627 - val_binary_accuracy: 0.7497\n",
      "Epoch 4/50\n",
      "157/157 [==============================] - 14s 91ms/step - loss: 0.4583 - binary_accuracy: 0.7446 - val_loss: 0.4624 - val_binary_accuracy: 0.7346\n",
      "Epoch 5/50\n",
      "157/157 [==============================] - 14s 90ms/step - loss: 0.4630 - binary_accuracy: 0.7498 - val_loss: 0.4509 - val_binary_accuracy: 0.7374\n",
      "Epoch 6/50\n",
      "157/157 [==============================] - 14s 90ms/step - loss: 0.4524 - binary_accuracy: 0.7448 - val_loss: 0.4448 - val_binary_accuracy: 0.7359\n",
      "Epoch 7/50\n",
      "157/157 [==============================] - 14s 89ms/step - loss: 0.4442 - binary_accuracy: 0.7500 - val_loss: 0.4411 - val_binary_accuracy: 0.7454\n",
      "Epoch 8/50\n",
      "157/157 [==============================] - 14s 89ms/step - loss: 0.4444 - binary_accuracy: 0.7508 - val_loss: 0.4447 - val_binary_accuracy: 0.7631\n",
      "Epoch 9/50\n",
      "157/157 [==============================] - 14s 89ms/step - loss: 0.4499 - binary_accuracy: 0.7397 - val_loss: 0.4570 - val_binary_accuracy: 0.7334\n",
      "Epoch 10/50\n",
      "157/157 [==============================] - 14s 88ms/step - loss: 0.4499 - binary_accuracy: 0.7402 - val_loss: 0.4692 - val_binary_accuracy: 0.7398\n",
      "Epoch 11/50\n",
      "157/157 [==============================] - 14s 88ms/step - loss: 0.4462 - binary_accuracy: 0.7385 - val_loss: 0.4093 - val_binary_accuracy: 0.7363\n",
      "Epoch 12/50\n",
      "157/157 [==============================] - 14s 88ms/step - loss: 0.4485 - binary_accuracy: 0.7351 - val_loss: 0.4667 - val_binary_accuracy: 0.7132\n",
      "Epoch 13/50\n",
      "157/157 [==============================] - 14s 88ms/step - loss: 0.4797 - binary_accuracy: 0.7223 - val_loss: 0.4851 - val_binary_accuracy: 0.7107\n",
      "Epoch 14/50\n",
      "157/157 [==============================] - 14s 88ms/step - loss: 0.4679 - binary_accuracy: 0.7254 - val_loss: 0.4711 - val_binary_accuracy: 0.7217\n",
      "Epoch 15/50\n",
      "157/157 [==============================] - 14s 88ms/step - loss: 0.4503 - binary_accuracy: 0.7532 - val_loss: 0.4685 - val_binary_accuracy: 0.7348\n",
      "Epoch 16/50\n",
      "157/157 [==============================] - 14s 88ms/step - loss: 0.4389 - binary_accuracy: 0.7541 - val_loss: 0.4164 - val_binary_accuracy: 0.7784\n",
      "Epoch 17/50\n",
      "157/157 [==============================] - 14s 88ms/step - loss: 0.4265 - binary_accuracy: 0.7570 - val_loss: 0.4143 - val_binary_accuracy: 0.7776\n",
      "Epoch 18/50\n",
      "157/157 [==============================] - 14s 88ms/step - loss: 0.4241 - binary_accuracy: 0.7555 - val_loss: 0.4484 - val_binary_accuracy: 0.7544\n",
      "Epoch 19/50\n",
      "157/157 [==============================] - 14s 88ms/step - loss: 0.4309 - binary_accuracy: 0.7456 - val_loss: 0.4395 - val_binary_accuracy: 0.7892\n",
      "Epoch 20/50\n",
      "157/157 [==============================] - 14s 88ms/step - loss: 0.4306 - binary_accuracy: 0.7510 - val_loss: 0.4104 - val_binary_accuracy: 0.7545\n",
      "Epoch 21/50\n",
      "157/157 [==============================] - 14s 88ms/step - loss: 0.4278 - binary_accuracy: 0.7513 - val_loss: 0.7248 - val_binary_accuracy: 0.7191\n",
      "Epoch 22/50\n",
      "157/157 [==============================] - 14s 91ms/step - loss: 0.4555 - binary_accuracy: 0.7573 - val_loss: 0.4192 - val_binary_accuracy: 0.7791\n",
      "Epoch 23/50\n",
      "157/157 [==============================] - 15s 98ms/step - loss: 0.4454 - binary_accuracy: 0.7532 - val_loss: 0.4277 - val_binary_accuracy: 0.7524\n",
      "Epoch 24/50\n",
      "157/157 [==============================] - 15s 97ms/step - loss: 0.4517 - binary_accuracy: 0.7473 - val_loss: 0.4540 - val_binary_accuracy: 0.7324\n",
      "Epoch 25/50\n",
      "157/157 [==============================] - 15s 97ms/step - loss: 0.4485 - binary_accuracy: 0.7458 - val_loss: 0.4260 - val_binary_accuracy: 0.7443\n",
      "Epoch 26/50\n",
      "157/157 [==============================] - 15s 96ms/step - loss: 0.4659 - binary_accuracy: 0.7503 - val_loss: 0.4094 - val_binary_accuracy: 0.7811\n",
      "Epoch 27/50\n",
      "157/157 [==============================] - 15s 97ms/step - loss: 0.4802 - binary_accuracy: 0.7457 - val_loss: 0.4368 - val_binary_accuracy: 0.7361\n",
      "Epoch 28/50\n",
      "157/157 [==============================] - 15s 96ms/step - loss: 0.4400 - binary_accuracy: 0.7534 - val_loss: 0.4291 - val_binary_accuracy: 0.7317\n",
      "Epoch 29/50\n",
      "157/157 [==============================] - 15s 96ms/step - loss: 0.4528 - binary_accuracy: 0.7501 - val_loss: 0.4266 - val_binary_accuracy: 0.7401\n",
      "Epoch 30/50\n",
      "157/157 [==============================] - 15s 96ms/step - loss: 0.4523 - binary_accuracy: 0.7502 - val_loss: 0.4124 - val_binary_accuracy: 0.7489\n",
      "Epoch 31/50\n",
      "157/157 [==============================] - 15s 96ms/step - loss: 0.4574 - binary_accuracy: 0.7419 - val_loss: 0.4305 - val_binary_accuracy: 0.7465\n",
      "Epoch 32/50\n",
      "157/157 [==============================] - 15s 96ms/step - loss: 0.4540 - binary_accuracy: 0.7502 - val_loss: 0.4381 - val_binary_accuracy: 0.7486\n",
      "Epoch 33/50\n",
      "157/157 [==============================] - 15s 96ms/step - loss: 0.4513 - binary_accuracy: 0.7507 - val_loss: 0.4378 - val_binary_accuracy: 0.7313\n",
      "Epoch 34/50\n",
      "157/157 [==============================] - ETA: 0s - loss: 0.4531 - binary_accuracy: 0.7446"
     ]
    }
   ],
   "source": [
    "Model1.trainQuantizedModel(numEpochs=50)"
   ]
  },
  {
   "cell_type": "code",
   "execution_count": null,
   "id": "96d40b0f",
   "metadata": {},
   "outputs": [],
   "source": [
    "Model1.saveModel()"
   ]
  }
 ],
 "metadata": {
  "kernelspec": {
   "display_name": "miscGithubEnviro",
   "language": "python",
   "name": "python3"
  },
  "language_info": {
   "codemirror_mode": {
    "name": "ipython",
    "version": 3
   },
   "file_extension": ".py",
   "mimetype": "text/x-python",
   "name": "python",
   "nbconvert_exporter": "python",
   "pygments_lexer": "ipython3",
   "version": "3.10.18"
  }
 },
 "nbformat": 4,
 "nbformat_minor": 5
}
